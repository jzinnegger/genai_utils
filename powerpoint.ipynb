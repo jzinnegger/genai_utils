{
 "cells": [
  {
   "cell_type": "markdown",
   "metadata": {},
   "source": [
    "# Create powerpoint slides with tables using pptx \n",
    "\n",
    "This utils are based on [python-pptx](https://python-pptx.readthedocs.io/) and inherit the pre-conditions. The objective is to create a powerpoint slide with a table using master template in powerpoint deck.\n",
    "A table placeholder needs to be present in the master (you need to add this placeholder in one layout - it is not part of the powerpoint standard templates).\n"
   ]
  },
  {
   "cell_type": "markdown",
   "metadata": {},
   "source": [
    "### Scan the master layouts of the deck\n",
    "The scan produces a powerpoint deck for visual inspection of the placeholders in the master and a dataframe."
   ]
  },
  {
   "cell_type": "code",
   "execution_count": 3,
   "metadata": {},
   "outputs": [],
   "source": [
    "%load_ext autoreload\n",
    "%autoreload 2"
   ]
  },
  {
   "cell_type": "code",
   "execution_count": 1,
   "metadata": {},
   "outputs": [
    {
     "data": {
      "text/html": [
       "<div>\n",
       "<style scoped>\n",
       "    .dataframe tbody tr th:only-of-type {\n",
       "        vertical-align: middle;\n",
       "    }\n",
       "\n",
       "    .dataframe tbody tr th {\n",
       "        vertical-align: top;\n",
       "    }\n",
       "\n",
       "    .dataframe thead th {\n",
       "        text-align: right;\n",
       "    }\n",
       "</style>\n",
       "<table border=\"1\" class=\"dataframe\">\n",
       "  <thead>\n",
       "    <tr style=\"text-align: right;\">\n",
       "      <th></th>\n",
       "      <th>Master Index</th>\n",
       "      <th>Layout Index</th>\n",
       "      <th>Shape Name</th>\n",
       "      <th>Placeholder Type</th>\n",
       "      <th>Placeholder Index</th>\n",
       "    </tr>\n",
       "  </thead>\n",
       "  <tbody>\n",
       "    <tr>\n",
       "      <th>3</th>\n",
       "      <td>0</td>\n",
       "      <td>1</td>\n",
       "      <td>Table Placeholder 2</td>\n",
       "      <td>TABLE (12)</td>\n",
       "      <td>13</td>\n",
       "    </tr>\n",
       "  </tbody>\n",
       "</table>\n",
       "</div>"
      ],
      "text/plain": [
       "   Master Index  Layout Index           Shape Name Placeholder Type  \\\n",
       "3             0             1  Table Placeholder 2       TABLE (12)   \n",
       "\n",
       "   Placeholder Index  \n",
       "3                 13  "
      ]
     },
     "execution_count": 1,
     "metadata": {},
     "output_type": "execute_result"
    }
   ],
   "source": [
    "# scan the master layout for placeholders\n",
    "from pptx_utils import layout_inspection, insert_slide_with_table\n",
    "import pandas as pd\n",
    "\n",
    "template_path = 'data/company-template.pptx'\n",
    "output_path = 'data/output/template-scan.pptx'  # Or None if you don't want to save the output deck\n",
    "layout_scan_df = layout_inspection(template_path, output_path)\n",
    "\n",
    "# filter layout_scan_df for placeholder type contains 'TABLE' only\n",
    "layout_scan_df[layout_scan_df['Placeholder Type'].str.contains('TABLE')]"
   ]
  },
  {
   "cell_type": "markdown",
   "metadata": {},
   "source": [
    "### Create a slide with table"
   ]
  },
  {
   "cell_type": "code",
   "execution_count": 7,
   "metadata": {},
   "outputs": [],
   "source": [
    "%autoreload 2\n",
    "\n",
    "# Example usage\n",
    "template_path = 'data/company-template.pptx'\n",
    "output_path = 'data/output/comparison-slide.pptx'\n",
    "\n",
    "# Data for the table\n",
    "title_text = 'Disney Characters'\n",
    "attributes = ['Outfit Style', 'Personality', 'Best Friend', 'Catchphrase']\n",
    "data = {\n",
    "    'Mickey Mouse': ['Red Shorts', 'Cheerful and Kind-hearted', 'Goofy', 'Oh boy!'],\n",
    "    'Donald Duck': ['Sailor Shirt', 'Fiery Temper and Stubborn', 'Daisy Duck', 'Oh phooey!']\n",
    "}\n",
    "df = pd.DataFrame(data, index=attributes)\n",
    "\n",
    "# insert slide with table\n",
    "# placeholder index for table have been determined with layout_inspection function\n",
    "insert_slide_with_table(df, title_text, output_path, template_path, layout=1,table_plc_idx=13)"
   ]
  }
 ],
 "metadata": {
  "kernelspec": {
   "display_name": ".venv",
   "language": "python",
   "name": "python3"
  },
  "language_info": {
   "codemirror_mode": {
    "name": "ipython",
    "version": 3
   },
   "file_extension": ".py",
   "mimetype": "text/x-python",
   "name": "python",
   "nbconvert_exporter": "python",
   "pygments_lexer": "ipython3",
   "version": "3.11.3"
  }
 },
 "nbformat": 4,
 "nbformat_minor": 2
}
