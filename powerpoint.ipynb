{
 "cells": [
  {
   "cell_type": "markdown",
   "metadata": {},
   "source": [
    "## Visual inspection of placeholders in a powerpoint master template\n",
    "Generate a new powerpoint deck for visual inspection of placehodler elements in the master layout. Generates one slide per layout for visual inspection. Primary purpose is to identify the placeholder indices in the deck. This is useful for adding text, tables and charts in the format as defined by the master.\n",
    "\n",
    "Title index is always 0. Bespoke elements start with idx>10 and index can differ by layout."
   ]
  },
  {
   "cell_type": "code",
   "execution_count": null,
   "metadata": {},
   "outputs": [],
   "source": [
    "#!pip install python-pptx"
   ]
  },
  {
   "cell_type": "code",
   "execution_count": null,
   "metadata": {},
   "outputs": [],
   "source": [
    "from pptx import Presentation\n",
    "from pptx.dml.color import RGBColor\n",
    "from pptx.util import Pt\n",
    "from pptx.enum.shapes import MSO_SHAPE\n",
    "\n",
    "def draw_box_around_placeholder(slide, placeholder):\n",
    "    \"\"\"\n",
    "    Draws a box with no fill and a border around a given placeholder on a slide.\n",
    "    \"\"\"\n",
    "    left, top, width, height = placeholder.left, placeholder.top, placeholder.width, placeholder.height\n",
    "    box = slide.shapes.add_shape(\n",
    "        MSO_SHAPE.RECTANGLE, left, top, width, height\n",
    "    )\n",
    "    box.fill.background()  # Setting no fill for the box\n",
    "    box.line.color.rgb = RGBColor(0, 0, 0)  # Black line color\n",
    "    box.line.width = Pt(1)  # Line thickness\n",
    "\n",
    "def layout_inspection(template_path, output_path):\n",
    "    \"\"\"\n",
    "    Scans a given PowerPoint template for all masters and their layouts and placeholders.\n",
    "    \"\"\"\n",
    "    prs = Presentation(template_path)\n",
    "\n",
    "    # Iterate through all master slides and their layouts\n",
    "    for master_index, slide_master in enumerate(prs.slide_masters):\n",
    "        for layout_index, slide_layout in enumerate(slide_master.slide_layouts):\n",
    "            # Add a slide with the current layout\n",
    "            slide = prs.slides.add_slide(slide_layout)\n",
    "\n",
    "            # Set the title (if present) to include the master and layout index\n",
    "            if slide.shapes.title:\n",
    "                slide.shapes.title.text = f\"Master: {master_index}, Layout: {layout_index} (Placeholder Index: 0)\"\n",
    "\n",
    "            # Iterate through all placeholders in the slide\n",
    "            for shape in slide.placeholders:\n",
    "                phf = shape.placeholder_format\n",
    "                placeholder_index = phf.idx\n",
    "                # Set text and draw a box around each placeholder\n",
    "                if placeholder_index != 0:  # Skip the title placeholder\n",
    "                    shape.text = f\"Placeholder Index: {placeholder_index}; Shape Name: {shape.name}; Placeholder Type: {phf.type}\"\n",
    "                    draw_box_around_placeholder(slide, shape)\n",
    "\n",
    "    # Save the presentation\n",
    "    prs.save(output_path)\n",
    "\n",
    "# Example usage\n",
    "template_path = 'data/company-template.pptx'\n",
    "output_path = 'data/output/template-scan.pptx'\n",
    "layout_inspection(template_path, output_path)\n"
   ]
  }
 ],
 "metadata": {
  "kernelspec": {
   "display_name": ".venv",
   "language": "python",
   "name": "python3"
  },
  "language_info": {
   "codemirror_mode": {
    "name": "ipython",
    "version": 3
   },
   "file_extension": ".py",
   "mimetype": "text/x-python",
   "name": "python",
   "nbconvert_exporter": "python",
   "pygments_lexer": "ipython3",
   "version": "3.11.3"
  }
 },
 "nbformat": 4,
 "nbformat_minor": 2
}
