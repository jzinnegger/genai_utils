{
 "cells": [
  {
   "cell_type": "code",
   "execution_count": null,
   "metadata": {},
   "outputs": [],
   "source": [
    "#!pip install python-pptx"
   ]
  },
  {
   "cell_type": "markdown",
   "metadata": {},
   "source": [
    "## Visual inspection of of a company powerpoint master template\n",
    "Generate a new powerpoint deck for visual inspection of powerpoint elements in the company layout. Generates one slide per layout for visual inspection. Primary purpose is to identify the correct placeholder indices in the deck. Indices are relevant for adding content at the correct place. Tested for one master with several corresponding layouts.\n",
    "\n",
    "Title index is always 0. Bespoke elements start with idx>10 and index can differ by layout."
   ]
  },
  {
   "cell_type": "code",
   "execution_count": null,
   "metadata": {},
   "outputs": [],
   "source": [
    "from pptx import Presentation\n",
    "\n",
    "def layout_inspection(template_path, output_path):\n",
    "    \"\"\"\n",
    "    Scans a given PowerPoint template for all the layouts and placeholders.\n",
    "\n",
    "    Args:\n",
    "    template_path (str): Path to the PowerPoint template file.\n",
    "    output_path (str): Path to save the output PowerPoint file.\n",
    "    \"\"\"\n",
    "    # Load the presentation from the template\n",
    "    prs = Presentation(template_path)\n",
    "\n",
    "    # Iterate through all slide layouts in the template\n",
    "    for layout_index, slide_layout in enumerate(prs.slide_layouts):\n",
    "        # Add a slide with the current layout\n",
    "        slide = prs.slides.add_slide(slide_layout)\n",
    "\n",
    "        # Set the title (if present) to include the layout index\n",
    "        if slide.shapes.title:\n",
    "            slide.shapes.title.text = f\"Layout Index: {layout_index} Title (Placeholder Index: 0)\"\n",
    "\n",
    "        # Iterate through all placeholders in the slide and set text to their index\n",
    "        for shape in slide.placeholders:\n",
    "            placeholder_index = shape.placeholder_format.idx\n",
    "\n",
    "            # Conditionally set text to avoid overwriting the title\n",
    "            if placeholder_index != 0:  # Skip the title placeholder\n",
    "                shape.text = f\"Placeholder Index: {placeholder_index} Shape Name: {shape.name}\"\n",
    "\n",
    "    # Save the presentation\n",
    "    prs.save(output_path)\n",
    "\n",
    "# Example usage\n",
    "template_path = 'data/company-template.pptx'\n",
    "output_path = 'data/output/template-scan.pptx'\n",
    "layout_inspection(template_path, output_path)\n"
   ]
  }
 ],
 "metadata": {
  "kernelspec": {
   "display_name": ".venv",
   "language": "python",
   "name": "python3"
  },
  "language_info": {
   "codemirror_mode": {
    "name": "ipython",
    "version": 3
   },
   "file_extension": ".py",
   "mimetype": "text/x-python",
   "name": "python",
   "nbconvert_exporter": "python",
   "pygments_lexer": "ipython3",
   "version": "3.11.3"
  }
 },
 "nbformat": 4,
 "nbformat_minor": 2
}
