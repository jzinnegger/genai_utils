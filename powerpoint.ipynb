{
 "cells": [
  {
   "cell_type": "code",
   "execution_count": null,
   "metadata": {},
   "outputs": [],
   "source": [
    "# create a powerpoint presentation\n",
    "# install python-pptx\n",
    "#!pip install python-pptx\n",
    "\n",
    "# import the module\n",
    "from pptx import Presentation\n",
    "\n"
   ]
  },
  {
   "cell_type": "code",
   "execution_count": 63,
   "metadata": {},
   "outputs": [],
   "source": [
    "RESULT_DECK = 'data/output/powerslide.pptx'"
   ]
  },
  {
   "cell_type": "markdown",
   "metadata": {},
   "source": [
    "Scanning a given company template for placeholders."
   ]
  },
  {
   "cell_type": "code",
   "execution_count": 80,
   "metadata": {},
   "outputs": [],
   "source": [
    "# scan a given deck for all the layouts and placeholders for visual inspection\n",
    "from pptx import Presentation\n",
    "\n",
    "# Path to your company template\n",
    "template_path = 'data/company-template.pptx'\n",
    "\n",
    "# Load the presentation from the template\n",
    "prs = Presentation(template_path)\n",
    "\n",
    "# Iterate through all slide layouts in the template\n",
    "for layout_index, slide_layout in enumerate(prs.slide_layouts):\n",
    "    # Add a slide with the current layout\n",
    "    slide = prs.slides.add_slide(slide_layout)\n",
    "\n",
    "    # Set the title (if present) to include the layout index\n",
    "    if slide.shapes.title:\n",
    "        slide.shapes.title.text = f\"Layout Index: {layout_index} Title (Placeholder Index: 0))\"\n",
    "\n",
    "    # Iterate through all placeholders in the slide and set text to their index\n",
    "    for shape in slide.placeholders:\n",
    "        placeholder_index = shape.placeholder_format.idx\n",
    "\n",
    "        # Conditionally set text to avoid overwriting the title\n",
    "        if placeholder_index != 0:  # Skip the title placeholder\n",
    "            shape.text = f\"Placeholder Index: {placeholder_index}\"\n",
    "\n",
    "# Save the presentation\n",
    "prs.save('data/output/template-scan.pptx')\n",
    "\n",
    "\n"
   ]
  }
 ],
 "metadata": {
  "kernelspec": {
   "display_name": ".venv",
   "language": "python",
   "name": "python3"
  },
  "language_info": {
   "codemirror_mode": {
    "name": "ipython",
    "version": 3
   },
   "file_extension": ".py",
   "mimetype": "text/x-python",
   "name": "python",
   "nbconvert_exporter": "python",
   "pygments_lexer": "ipython3",
   "version": "3.11.3"
  }
 },
 "nbformat": 4,
 "nbformat_minor": 2
}
